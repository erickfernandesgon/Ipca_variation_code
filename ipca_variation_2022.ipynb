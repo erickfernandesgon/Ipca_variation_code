{
  "cells": [
    {
      "cell_type": "markdown",
      "metadata": {
        "id": "view-in-github",
        "colab_type": "text"
      },
      "source": [
        "<a href=\"https://colab.research.google.com/github/erickfernandesgon/Ipca_variation_code/blob/main/ipca_variation_2022.ipynb\" target=\"_parent\"><img src=\"https://colab.research.google.com/assets/colab-badge.svg\" alt=\"Open In Colab\"/></a>"
      ]
    },
    {
      "cell_type": "code",
      "execution_count": null,
      "metadata": {
        "id": "knTRtv90tytz",
        "colab": {
          "base_uri": "https://localhost:8080/"
        },
        "outputId": "e2334b5d-ba30-448b-854c-3d768e733118"
      },
      "outputs": [
        {
          "output_type": "stream",
          "name": "stdout",
          "text": [
            "Looking in indexes: https://pypi.org/simple, https://us-python.pkg.dev/colab-wheels/public/simple/\n",
            "Requirement already satisfied: sidrapy in /usr/local/lib/python3.8/dist-packages (0.1.4)\n",
            "Requirement already satisfied: requests in /usr/local/lib/python3.8/dist-packages (from sidrapy) (2.25.1)\n",
            "Requirement already satisfied: pandas in /usr/local/lib/python3.8/dist-packages (from sidrapy) (1.3.5)\n",
            "Requirement already satisfied: numpy>=1.17.3 in /usr/local/lib/python3.8/dist-packages (from pandas->sidrapy) (1.21.6)\n",
            "Requirement already satisfied: python-dateutil>=2.7.3 in /usr/local/lib/python3.8/dist-packages (from pandas->sidrapy) (2.8.2)\n",
            "Requirement already satisfied: pytz>=2017.3 in /usr/local/lib/python3.8/dist-packages (from pandas->sidrapy) (2022.7.1)\n",
            "Requirement already satisfied: urllib3<1.27,>=1.21.1 in /usr/local/lib/python3.8/dist-packages (from requests->sidrapy) (1.24.3)\n",
            "Requirement already satisfied: idna<3,>=2.5 in /usr/local/lib/python3.8/dist-packages (from requests->sidrapy) (2.10)\n",
            "Requirement already satisfied: chardet<5,>=3.0.2 in /usr/local/lib/python3.8/dist-packages (from requests->sidrapy) (4.0.0)\n",
            "Requirement already satisfied: certifi>=2017.4.17 in /usr/local/lib/python3.8/dist-packages (from requests->sidrapy) (2022.12.7)\n",
            "Requirement already satisfied: six>=1.5 in /usr/local/lib/python3.8/dist-packages (from python-dateutil>=2.7.3->pandas->sidrapy) (1.15.0)\n"
          ]
        }
      ],
      "source": [
        "!pip install sidrapy\n",
        "import numpy as np\n",
        "import pandas as pd\n",
        "import sidrapy\n",
        "import matplotlib.pyplot as plt\n",
        "import seaborn as sns\n",
        "import numpy as np\n",
        "from datetime import datetime"
      ]
    },
    {
      "cell_type": "code",
      "execution_count": null,
      "metadata": {
        "id": "8oYQfw_Y3TbS"
      },
      "outputs": [],
      "source": [
        "ipca_data  = sidrapy.get_table(table_code = \"7060\", territorial_level = str(7), ibge_territorial_code = \"all\",  period = \"all\", classification=\"315/7479\")\n",
        "ipca_brasil =  sidrapy.get_table(table_code = \"7060\", territorial_level = str(1), ibge_territorial_code = \"all\",  period = \"all\", classification=\"315/7479\")"
      ]
    },
    {
      "cell_type": "code",
      "source": [
        "def changing_column(data_frame_change):\n",
        "  data_frame_change.rename(columns=data_frame_change.iloc[0], inplace = True)\n",
        "  return"
      ],
      "metadata": {
        "id": "8nt5G4gd-lab"
      },
      "execution_count": null,
      "outputs": []
    },
    {
      "cell_type": "code",
      "source": [
        "#Activate functions to change the header of the dataframe to Brasil and Territorial Level\n",
        "changing_column(ipca_data)\n",
        "changing_column(ipca_brasil)\n"
      ],
      "metadata": {
        "id": "LJAqb6230ZJv"
      },
      "execution_count": null,
      "outputs": []
    },
    {
      "cell_type": "code",
      "execution_count": null,
      "metadata": {
        "id": "gD0BKtoV8A2k"
      },
      "outputs": [],
      "source": [
        "#Dropping the first row from both dataframes\n",
        "ipca_data.drop(labels=[0], inplace = True)\n",
        "ipca_brasil.drop(labels=[0], inplace=True)"
      ]
    },
    {
      "cell_type": "code",
      "execution_count": null,
      "metadata": {
        "id": "InTNNPmd_q-L"
      },
      "outputs": [],
      "source": [
        "def drop_labels(dataframe_to_drop):\n",
        "  dataframe_to_drop.drop(labels=['Unidade de Medida (Código)', 'Nível Territorial', 'Nível Territorial (Código)', 'Variável (Código)','Unidade de Medida', 'Unidade de Medida (Código)', 'Mês', 'Geral, grupo, subgrupo, item e subitem (Código)',\t'Geral, grupo, subgrupo, item e subitem'], axis = 1, inplace = True)\n",
        "  return"
      ]
    },
    {
      "cell_type": "code",
      "source": [
        "drop_labels(ipca_data)\n",
        "drop_labels(ipca_brasil)"
      ],
      "metadata": {
        "id": "PG49VgQhNH7L"
      },
      "execution_count": null,
      "outputs": []
    },
    {
      "cell_type": "code",
      "execution_count": null,
      "metadata": {
        "id": "TsqGgJzm8mgd"
      },
      "outputs": [],
      "source": [
        "ipca_data_mensal = ipca_data.loc[ipca_data['Variável'] == 'IPCA - Variação mensal']\n",
        "ipca_brasil = ipca_brasil.loc[ipca_data['Variável'] == 'IPCA - Variação mensal']"
      ]
    },
    {
      "cell_type": "code",
      "source": [
        "ipca_belohorizonte, ipca_belem, ipca_curitiba,  ipca_fortaleza, ipca_espirito_santo, ipca_portoalegre, ipca_recife, ipca_rio, ipca_salvador, ipca_sao_paulo = ipca_data_mensal.copy(),ipca_data_mensal.copy(), ipca_data_mensal.copy(), ipca_data_mensal.copy(), ipca_data_mensal.copy(), ipca_data_mensal.copy(), ipca_data_mensal.copy(), ipca_data_mensal.copy(), ipca_data_mensal.copy(), ipca_data_mensal.copy()"
      ],
      "metadata": {
        "id": "VH2rohrz3mDd"
      },
      "execution_count": null,
      "outputs": []
    },
    {
      "cell_type": "code",
      "source": [
        "list_cities = [ipca_belohorizonte, ipca_belem, ipca_curitiba, ipca_fortaleza, ipca_espirito_santo, ipca_portoalegre, ipca_recife, ipca_rio, ipca_salvador, ipca_sao_paulo, ipca_brasil]"
      ],
      "metadata": {
        "id": "Og7pmyroE7sJ"
      },
      "execution_count": null,
      "outputs": []
    },
    {
      "cell_type": "code",
      "source": [
        "count_cities = ipca_data_mensal.groupby(\"Região Metropolitana\")[\"Variável\"].count()\n",
        "data_frame_reset = count_cities.reset_index()"
      ],
      "metadata": {
        "id": "E7g0CJF0ce09"
      },
      "execution_count": null,
      "outputs": []
    },
    {
      "cell_type": "code",
      "execution_count": null,
      "metadata": {
        "id": "xow69wcikgw8"
      },
      "outputs": [],
      "source": [
        "total = 0\n",
        "new = 0\n",
        "nomes_cidades = ['Região Metropolitana']\n",
        "for i in range(10):\n",
        "  nomes_cidades.append(str(data_frame_reset.iloc[total,0]))\n",
        "  total = 1 + i\n",
        "  list_cities[new].rename(columns={nomes_cidades[0]:nomes_cidades[new+1]}, inplace=True)\n",
        "  new = new + 1\n",
        "  list_cities[i]['Mês'] = pd.to_datetime(list_cities[i]['Mês (Código)'], format='%Y%m').dt.strftime(\"%d-%b-%Y\")\n",
        "  list_cities[i]['Mês'] = pd.to_datetime(list_cities[i]['Mês'], format='%d-%b-%Y').dt.strftime(\"%b-%Y\")\n",
        "  list_cities[i] = list_cities[i][list_cities[i].iloc[:,2] == str(data_frame_reset.iloc[i,0])]"
      ]
    },
    {
      "cell_type": "code",
      "execution_count": null,
      "metadata": {
        "id": "w-_0m6IvqYCk"
      },
      "outputs": [],
      "source": [
        "list_cities[-1]['Mês'] = pd.to_datetime(list_cities[-1]['Mês (Código)'], format='%Y%m').dt.strftime(\"%d-%b-%Y\")\n",
        "list_cities[-1]['Mês'] = pd.to_datetime(list_cities[-1]['Mês'], format='%d-%b-%Y').dt.strftime(\"%b-%Y\")\n"
      ]
    },
    {
      "cell_type": "code",
      "execution_count": null,
      "metadata": {
        "id": "_nC7ViaNZioP",
        "colab": {
          "base_uri": "https://localhost:8080/"
        },
        "outputId": "dbf8f572-a0c9-4a17-9973-ec1d626c4d4a"
      },
      "outputs": [
        {
          "output_type": "stream",
          "name": "stderr",
          "text": [
            "/usr/local/lib/python3.8/dist-packages/pandas/core/indexing.py:1951: SettingWithCopyWarning: \n",
            "A value is trying to be set on a copy of a slice from a DataFrame.\n",
            "Try using .loc[row_indexer,col_indexer] = value instead\n",
            "\n",
            "See the caveats in the documentation: https://pandas.pydata.org/pandas-docs/stable/user_guide/indexing.html#returning-a-view-versus-a-copy\n",
            "  self.obj[selected_item_labels] = value\n",
            "/usr/local/lib/python3.8/dist-packages/pandas/core/frame.py:4906: SettingWithCopyWarning: \n",
            "A value is trying to be set on a copy of a slice from a DataFrame\n",
            "\n",
            "See the caveats in the documentation: https://pandas.pydata.org/pandas-docs/stable/user_guide/indexing.html#returning-a-view-versus-a-copy\n",
            "  return super().drop(\n",
            "/usr/local/lib/python3.8/dist-packages/pandas/core/frame.py:5039: SettingWithCopyWarning: \n",
            "A value is trying to be set on a copy of a slice from a DataFrame\n",
            "\n",
            "See the caveats in the documentation: https://pandas.pydata.org/pandas-docs/stable/user_guide/indexing.html#returning-a-view-versus-a-copy\n",
            "  return super().rename(\n"
          ]
        }
      ],
      "source": [
        "titles = ['Belo Horizonte(MG)', 'Belém(PA)', 'Curitiba(PR)', 'Fortaleza(CE)','Grande Vitória(ES)', 'Porto Alegre(RS)', 'Recife(PE)', 'Rio de Janeiro(RJ)', 'Salvador(BA)', 'São Paulo(SP)']\n",
        "for i in range(10):\n",
        "  list_cities[i].iloc[:,0] = list_cities[i].iloc[:,0].astype(float)\n",
        "  list_cities[i].drop(labels= ['Mês (Código)'], axis = 1, inplace=True)\n",
        "  list_cities[i].rename(columns = {'Valor': titles[i]}, inplace = True)\n",
        "  list_cities[i].drop(columns = {'Região Metropolitana (Código)'}, inplace = True)"
      ]
    },
    {
      "cell_type": "code",
      "source": [
        "def normalizing_countries(dataframe_used):\n",
        "  dataframe_used.iloc[:,0] = dataframe_used.iloc[:,0].astype(float)\n",
        "  dataframe_used.drop(labels= ['Mês (Código)'], axis = 1, inplace=True)\n",
        "  dataframe_used.rename(columns = {'Valor': 'Brasil-'}, inplace = True)\n",
        "  list_cities[-1].drop(columns = {'Brasil'}, inplace = True)\n",
        "  return"
      ],
      "metadata": {
        "id": "-GEakwC4Ur6h"
      },
      "execution_count": null,
      "outputs": []
    },
    {
      "cell_type": "code",
      "source": [
        "ipca_bh, ipca_be, ipca_ctba, ipca_for, ipca_vit, ipca_poa, ipca_rec, ipca_rj, ipca_salvador_bahia, ipca_sampa, ipca_br  = list_cities[0], list_cities[1], list_cities[2], list_cities[3], list_cities[4], list_cities[5],list_cities[6], list_cities[7], list_cities[8], list_cities[9], list_cities[10]"
      ],
      "metadata": {
        "id": "LU_LlhRgs2bB"
      },
      "execution_count": null,
      "outputs": []
    },
    {
      "cell_type": "code",
      "source": [
        "normalizing_countries(ipca_br)"
      ],
      "metadata": {
        "id": "rUlG-l1asoQB"
      },
      "execution_count": null,
      "outputs": []
    },
    {
      "cell_type": "code",
      "source": [
        "list_dataframes = [ipca_bh, ipca_be, ipca_ctba, ipca_for, ipca_vit, ipca_poa, ipca_rec, ipca_rj, ipca_salvador_bahia, ipca_sampa, ipca_br]"
      ],
      "metadata": {
        "id": "ytnR94DM4DDu"
      },
      "execution_count": null,
      "outputs": []
    },
    {
      "cell_type": "code",
      "source": [
        "#Loop for Drop Cities or Countries column and Variable(Type) \n",
        "for i in range(11):\n",
        "  list_dataframes[i].drop(list_dataframes[i].iloc[:, 1:3], inplace=True, axis=1)"
      ],
      "metadata": {
        "id": "O0ZKqhx-vH2M"
      },
      "execution_count": null,
      "outputs": []
    },
    {
      "cell_type": "code",
      "source": [
        "new_df = ipca_rec.merge(ipca_bh, on='Mês').merge(ipca_be, on='Mês').merge(ipca_ctba, on='Mês').merge(ipca_poa, on='Mês').merge(ipca_for, on='Mês').merge(ipca_rj, on='Mês').merge(ipca_vit, on='Mês').merge(ipca_br, on='Mês').merge(ipca_salvador_bahia, on='Mês').merge(ipca_sampa, on='Mês')"
      ],
      "metadata": {
        "id": "QTItlFvO2tpr"
      },
      "execution_count": null,
      "outputs": []
    },
    {
      "cell_type": "code",
      "source": [
        "new_df = new_df.iloc[:, [1,0,2,3,4,5,6,7,8,9,10,11]]"
      ],
      "metadata": {
        "id": "_0AyaxIvu5zO"
      },
      "execution_count": null,
      "outputs": []
    },
    {
      "cell_type": "code",
      "source": [
        "ipca_month_2022 = new_df[new_df['Mês'].str.contains('Jul-2022', case=False, na=False)]"
      ],
      "metadata": {
        "id": "JHln6zFGFjsK"
      },
      "execution_count": null,
      "outputs": []
    },
    {
      "cell_type": "code",
      "source": [
        "ipca_month_2022.head()"
      ],
      "metadata": {
        "colab": {
          "base_uri": "https://localhost:8080/",
          "height": 159
        },
        "id": "BmicUIsc2Adh",
        "outputId": "b6ba524f-1802-4b8c-b2df-47a52441238f"
      },
      "execution_count": null,
      "outputs": [
        {
          "output_type": "execute_result",
          "data": {
            "text/plain": [
              "         Mês  Recife(PE)  Belo Horizonte(MG)  Belém(PA)  Curitiba(PR)  \\\n",
              "30  Jul-2022       -3.88               -7.28      -4.87         -8.22   \n",
              "\n",
              "    Porto Alegre(RS)  Fortaleza(CE)  Rio de Janeiro(RJ)  Grande Vitória(ES)  \\\n",
              "30            -10.86          -4.55               -0.26              -12.28   \n",
              "\n",
              "    Brasil-  Salvador(BA)  São Paulo(SP)  \n",
              "30    -4.26         -6.09           0.06  "
            ],
            "text/html": [
              "\n",
              "  <div id=\"df-4db1a34a-8def-423d-884b-851ffa9f7b78\">\n",
              "    <div class=\"colab-df-container\">\n",
              "      <div>\n",
              "<style scoped>\n",
              "    .dataframe tbody tr th:only-of-type {\n",
              "        vertical-align: middle;\n",
              "    }\n",
              "\n",
              "    .dataframe tbody tr th {\n",
              "        vertical-align: top;\n",
              "    }\n",
              "\n",
              "    .dataframe thead th {\n",
              "        text-align: right;\n",
              "    }\n",
              "</style>\n",
              "<table border=\"1\" class=\"dataframe\">\n",
              "  <thead>\n",
              "    <tr style=\"text-align: right;\">\n",
              "      <th></th>\n",
              "      <th>Mês</th>\n",
              "      <th>Recife(PE)</th>\n",
              "      <th>Belo Horizonte(MG)</th>\n",
              "      <th>Belém(PA)</th>\n",
              "      <th>Curitiba(PR)</th>\n",
              "      <th>Porto Alegre(RS)</th>\n",
              "      <th>Fortaleza(CE)</th>\n",
              "      <th>Rio de Janeiro(RJ)</th>\n",
              "      <th>Grande Vitória(ES)</th>\n",
              "      <th>Brasil-</th>\n",
              "      <th>Salvador(BA)</th>\n",
              "      <th>São Paulo(SP)</th>\n",
              "    </tr>\n",
              "  </thead>\n",
              "  <tbody>\n",
              "    <tr>\n",
              "      <th>30</th>\n",
              "      <td>Jul-2022</td>\n",
              "      <td>-3.88</td>\n",
              "      <td>-7.28</td>\n",
              "      <td>-4.87</td>\n",
              "      <td>-8.22</td>\n",
              "      <td>-10.86</td>\n",
              "      <td>-4.55</td>\n",
              "      <td>-0.26</td>\n",
              "      <td>-12.28</td>\n",
              "      <td>-4.26</td>\n",
              "      <td>-6.09</td>\n",
              "      <td>0.06</td>\n",
              "    </tr>\n",
              "  </tbody>\n",
              "</table>\n",
              "</div>\n",
              "      <button class=\"colab-df-convert\" onclick=\"convertToInteractive('df-4db1a34a-8def-423d-884b-851ffa9f7b78')\"\n",
              "              title=\"Convert this dataframe to an interactive table.\"\n",
              "              style=\"display:none;\">\n",
              "        \n",
              "  <svg xmlns=\"http://www.w3.org/2000/svg\" height=\"24px\"viewBox=\"0 0 24 24\"\n",
              "       width=\"24px\">\n",
              "    <path d=\"M0 0h24v24H0V0z\" fill=\"none\"/>\n",
              "    <path d=\"M18.56 5.44l.94 2.06.94-2.06 2.06-.94-2.06-.94-.94-2.06-.94 2.06-2.06.94zm-11 1L8.5 8.5l.94-2.06 2.06-.94-2.06-.94L8.5 2.5l-.94 2.06-2.06.94zm10 10l.94 2.06.94-2.06 2.06-.94-2.06-.94-.94-2.06-.94 2.06-2.06.94z\"/><path d=\"M17.41 7.96l-1.37-1.37c-.4-.4-.92-.59-1.43-.59-.52 0-1.04.2-1.43.59L10.3 9.45l-7.72 7.72c-.78.78-.78 2.05 0 2.83L4 21.41c.39.39.9.59 1.41.59.51 0 1.02-.2 1.41-.59l7.78-7.78 2.81-2.81c.8-.78.8-2.07 0-2.86zM5.41 20L4 18.59l7.72-7.72 1.47 1.35L5.41 20z\"/>\n",
              "  </svg>\n",
              "      </button>\n",
              "      \n",
              "  <style>\n",
              "    .colab-df-container {\n",
              "      display:flex;\n",
              "      flex-wrap:wrap;\n",
              "      gap: 12px;\n",
              "    }\n",
              "\n",
              "    .colab-df-convert {\n",
              "      background-color: #E8F0FE;\n",
              "      border: none;\n",
              "      border-radius: 50%;\n",
              "      cursor: pointer;\n",
              "      display: none;\n",
              "      fill: #1967D2;\n",
              "      height: 32px;\n",
              "      padding: 0 0 0 0;\n",
              "      width: 32px;\n",
              "    }\n",
              "\n",
              "    .colab-df-convert:hover {\n",
              "      background-color: #E2EBFA;\n",
              "      box-shadow: 0px 1px 2px rgba(60, 64, 67, 0.3), 0px 1px 3px 1px rgba(60, 64, 67, 0.15);\n",
              "      fill: #174EA6;\n",
              "    }\n",
              "\n",
              "    [theme=dark] .colab-df-convert {\n",
              "      background-color: #3B4455;\n",
              "      fill: #D2E3FC;\n",
              "    }\n",
              "\n",
              "    [theme=dark] .colab-df-convert:hover {\n",
              "      background-color: #434B5C;\n",
              "      box-shadow: 0px 1px 3px 1px rgba(0, 0, 0, 0.15);\n",
              "      filter: drop-shadow(0px 1px 2px rgba(0, 0, 0, 0.3));\n",
              "      fill: #FFFFFF;\n",
              "    }\n",
              "  </style>\n",
              "\n",
              "      <script>\n",
              "        const buttonEl =\n",
              "          document.querySelector('#df-4db1a34a-8def-423d-884b-851ffa9f7b78 button.colab-df-convert');\n",
              "        buttonEl.style.display =\n",
              "          google.colab.kernel.accessAllowed ? 'block' : 'none';\n",
              "\n",
              "        async function convertToInteractive(key) {\n",
              "          const element = document.querySelector('#df-4db1a34a-8def-423d-884b-851ffa9f7b78');\n",
              "          const dataTable =\n",
              "            await google.colab.kernel.invokeFunction('convertToInteractive',\n",
              "                                                     [key], {});\n",
              "          if (!dataTable) return;\n",
              "\n",
              "          const docLinkHtml = 'Like what you see? Visit the ' +\n",
              "            '<a target=\"_blank\" href=https://colab.research.google.com/notebooks/data_table.ipynb>data table notebook</a>'\n",
              "            + ' to learn more about interactive tables.';\n",
              "          element.innerHTML = '';\n",
              "          dataTable['output_type'] = 'display_data';\n",
              "          await google.colab.output.renderOutput(dataTable, element);\n",
              "          const docLink = document.createElement('div');\n",
              "          docLink.innerHTML = docLinkHtml;\n",
              "          element.appendChild(docLink);\n",
              "        }\n",
              "      </script>\n",
              "    </div>\n",
              "  </div>\n",
              "  "
            ]
          },
          "metadata": {},
          "execution_count": 92
        }
      ]
    },
    {
      "cell_type": "code",
      "source": [
        "ipca_fuel_percentage = []\n",
        "for i in range(1, 12):\n",
        "  ipca_fuel_percentage.append(ipca_month_2022.iloc[0,i])\n",
        "Grande Vitória -12,28%, Porto Alegre -10.86%, Curitiba -8.22%, Belo Horizonte-7.28%, Salvador-6.09%, Belém-4.87%, Recife -3.88%, Rio de Janeiro-0.25%, São Paulo 0.06%"
      ],
      "metadata": {
        "id": "76syHoKrLy-U"
      },
      "execution_count": null,
      "outputs": []
    },
    {
      "cell_type": "code",
      "source": [
        "ipca_fuel_cities = list(ipca_month_2022.columns)\n",
        "ipca_fuel_cities = tuple(ipca_fuel_cities[1:])"
      ],
      "metadata": {
        "id": "D3kzR8bSM1GU"
      },
      "execution_count": null,
      "outputs": []
    },
    {
      "cell_type": "code",
      "source": [
        "plt.barh(ipca_fuel_cities, ipca_fuel_percentage, color ='#029ea2')\n",
        "plt.ylabel('Metrópoles e Brasil')\n",
        "plt.xlabel('Variação % IPCA de Combustíveis')\n",
        "plt.title(' Variação percentual do IPCA dos Combustíveis em Grandes Metrópoles(Julho de 2022)')"
      ],
      "metadata": {
        "colab": {
          "base_uri": "https://localhost:8080/",
          "height": 490
        },
        "id": "MgqaxRGkS0f3",
        "outputId": "c0d06edc-6581-4504-f16d-659c9b0914f0"
      },
      "execution_count": null,
      "outputs": [
        {
          "output_type": "execute_result",
          "data": {
            "text/plain": [
              "Text(0.5, 1.0, ' Variação percentual do IPCA dos Combustíveis em Grandes Metrópoles(Julho de 2022)')"
            ]
          },
          "metadata": {},
          "execution_count": 91
        },
        {
          "output_type": "display_data",
          "data": {
            "text/plain": [
              "<Figure size 640x480 with 1 Axes>"
            ],
            "image/png": "[encoded data removed]"
          },
          "metadata": {}
        }
      ]
    },
    {
      "cell_type": "code",
      "source": [],
      "metadata": {
        "id": "UyRtpdgo5m1i"
      },
      "execution_count": null,
      "outputs": []
    }
  ],
  "metadata": {
    "colab": {
      "provenance": [],
      "authorship_tag": "ABX9TyNQmumn37lrmEh2OL+cyhYO",
      "include_colab_link": true
    },
    "kernelspec": {
      "display_name": "Python 3",
      "name": "python3"
    },
    "language_info": {
      "name": "python"
    }
  },
  "nbformat": 4,
  "nbformat_minor": 0
}